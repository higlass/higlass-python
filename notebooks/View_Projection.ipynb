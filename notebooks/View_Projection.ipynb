{
 "cells": [
  {
   "cell_type": "code",
   "execution_count": null,
   "id": "d1373f88",
   "metadata": {},
   "outputs": [],
   "source": [
    "import os\n",
    "import sys\n",
    "\n",
    "# Install if in Google colab notebook\n",
    "if \"google.colab\" in sys.modules:\n",
    "    os.system(\n",
    "        \"python -m pip install --upgrade --force-reinstall git+https://github.com/higlass/higlass-python\"\n",
    "    )"
   ]
  },
  {
   "cell_type": "code",
   "execution_count": null,
   "id": "8ae5be58",
   "metadata": {},
   "outputs": [],
   "source": [
    "import higlass as hg\n",
    "\n",
    "ts = hg.remote(\n",
    "    uid=\"CQMd6V_cRw6iCI_-Unl3PQ\",\n",
    "    server=\"https://higlass.io/api/v1/\",\n",
    "    name=\"Rao et al. (2014) GM12878 MboI (allreps) 1kb\",\n",
    ")\n",
    "\n",
    "v1 = hg.view(ts.track(\"heatmap\"), width=3)\n",
    "v2 = hg.view(ts.track(\"heatmap\"), width=9).project(v1, on=\"center\")\n",
    "\n",
    "v1 | v2"
   ]
  },
  {
   "cell_type": "code",
   "execution_count": null,
   "id": "d4d3c71e",
   "metadata": {},
   "outputs": [],
   "source": []
  }
 ],
 "metadata": {
  "kernelspec": {
   "display_name": "Python 3 (ipykernel)",
   "language": "python",
   "name": "python3"
  },
  "language_info": {
   "codemirror_mode": {
    "name": "ipython",
    "version": 3
   },
   "file_extension": ".py",
   "mimetype": "text/x-python",
   "name": "python",
   "nbconvert_exporter": "python",
   "pygments_lexer": "ipython3",
   "version": "3.11.0"
  }
 },
 "nbformat": 4,
 "nbformat_minor": 5
}
