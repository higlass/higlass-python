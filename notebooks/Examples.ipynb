{
 "cells": [
  {
   "cell_type": "code",
   "execution_count": null,
   "metadata": {},
   "outputs": [],
   "source": [
    "%load_ext autoreload\n",
    "%autoreload 2"
   ]
  },
  {
   "cell_type": "code",
   "execution_count": null,
   "metadata": {},
   "outputs": [],
   "source": [
    "import os\n",
    "import sys\n",
    "\n",
    "# Install if in Google colab notebook\n",
    "if \"google.colab\" in sys.modules:\n",
    "    os.system(\n",
    "        \"python -m pip install --upgrade --force-reinstall git+https://github.com/higlass/higlass-python\"\n",
    "    )"
   ]
  },
  {
   "cell_type": "markdown",
   "metadata": {},
   "source": [
    "## Synced heatmaps"
   ]
  },
  {
   "cell_type": "code",
   "execution_count": null,
   "metadata": {},
   "outputs": [],
   "source": [
    "import higlass as hg\n",
    "\n",
    "# Configure remote data sources (tilesets)\n",
    "tileset1 = hg.remote(\n",
    "    uid=\"CQMd6V_cRw6iCI_-Unl3PQ\",\n",
    "    server=\"https://higlass.io/api/v1/\",\n",
    "    name=\"Rao et al. (2014) GM12878 MboI (allreps) 1kb\",\n",
    ")\n",
    "\n",
    "tileset2 = hg.remote(\n",
    "    uid=\"QvdMEvccQuOxKTEjrVL3wA\",\n",
    "    server=\"https://higlass.io/api/v1/\",\n",
    "    name=\"Rao et al. (2014) K562 MboI (allreps) 1kb\",\n",
    ")\n",
    "\n",
    "# Create a HeatmapTrack for each tileset\n",
    "track1 = tileset1.track(\"heatmap\")\n",
    "track2 = tileset2.track(\"heatmap\")\n",
    "\n",
    "# Create two independent Views, one for each heatmap\n",
    "view1 = hg.view(track1, width=6)\n",
    "view2 = hg.view(track2, width=6)\n",
    "\n",
    "# Lock zoom & location for each View\n",
    "view_lock = hg.lock(view1, view2)\n",
    "\n",
    "# Concatenate Views side-by-side, and apply synchronization lock\n",
    "(view1 | view2).locks(view_lock)"
   ]
  },
  {
   "cell_type": "code",
   "execution_count": null,
   "metadata": {},
   "outputs": [],
   "source": [
    "# Lock zoom only for each view\n",
    "(view1 | view2).locks(zoom=view_lock)"
   ]
  },
  {
   "cell_type": "code",
   "execution_count": null,
   "metadata": {},
   "outputs": [],
   "source": [
    "# Lock location only for each view\n",
    "(view1 | view2).locks(location=view_lock)"
   ]
  },
  {
   "cell_type": "code",
   "execution_count": null,
   "metadata": {},
   "outputs": [],
   "source": [
    "# Create additional views and synchronize (apply black to white color range)\n",
    "\n",
    "bw_color_range = [\"rgba(255,255,255,1)\", \"rgba(0,0,0,1)\"]\n",
    "view3 = hg.view(track1.opts(colorRange=bw_color_range), width=6)\n",
    "view4 = hg.view(track2.opts(colorRange=bw_color_range), width=6)\n",
    "\n",
    "# Create stacked view configuration and lock views by column\n",
    "((view1 / view2) | (view3 / view4)).locks(\n",
    "    hg.lock(view1, view2),\n",
    "    hg.lock(view3, view4),\n",
    ")"
   ]
  },
  {
   "cell_type": "markdown",
   "metadata": {},
   "source": [
    "## Value scale syncing"
   ]
  },
  {
   "cell_type": "code",
   "execution_count": null,
   "metadata": {},
   "outputs": [],
   "source": [
    "# Create Tracks\n",
    "\n",
    "# creates a hg.Track without a tileset\n",
    "t1 = hg.track(\"top-axis\")\n",
    "\n",
    "# Creates a hg.RemoteTileset object\n",
    "remote_tileset = hg.remote(\n",
    "    uid=\"CQMd6V_cRw6iCI_-Unl3PQ\",\n",
    "    server=\"https://higlass.io/api/v1/\",  # optional, \"http://higlass.io/api/v1/\" default\n",
    "    name=\"Rao et al. (2014) GM12878 MboI (allreps) 1kb\",\n",
    ")\n",
    "\n",
    "# Tileset.track() creates a hg.Track object binding the parent Tileset\n",
    "t2 = remote_tileset.track(\"heatmap\").opts(valueScaleMax=0.5)\n",
    "\n",
    "# Create Views\n",
    "\n",
    "# Positional arguments for `hg.view` are overloaded. Keyword arguments are\n",
    "# forwarded to the creation of the `hg.View`. Layout fields (`x`, `y`,\n",
    "# `width`, `height`) may also be assigned.\n",
    "\n",
    "# (1) Track objects (positioning guessed based on track type)\n",
    "view1 = hg.view(t1, t2, width=6)\n",
    "\n",
    "# (2) (Track, position) tuple\n",
    "view2 = hg.view((t1, \"top\"), t2, width=6)\n",
    "\n",
    "# (3) hg.Tracks object\n",
    "view3 = hg.view(hg.Tracks(top=[t1], center=[t2]), width=6)\n",
    "\n",
    "# (View, Track) tuples -> ScaleValueLock\n",
    "scale_value_lock = hg.lock((view1, t2), (view2, t2))\n",
    "\n",
    "(view1 | view2).locks(scale_value_lock)"
   ]
  },
  {
   "cell_type": "markdown",
   "metadata": {},
   "source": [
    "## Remote heatmaps"
   ]
  },
  {
   "cell_type": "code",
   "execution_count": null,
   "metadata": {},
   "outputs": [],
   "source": [
    "# Initialize data sources\n",
    "tset1 = hg.remote(\n",
    "    uid=\"CQMd6V_cRw6iCI_-Unl3PQ\",\n",
    "    name=\"Rao et al. (2014) GM12878 MboI (allreps) 1kb\",\n",
    ")\n",
    "\n",
    "tset2 = hg.remote(\n",
    "    uid=\"QvdMEvccQuOxKTEjrVL3wA\",\n",
    "    name=\"Rao et al. (2014) K562 MboI (allreps) 1kb\",\n",
    ")\n",
    "\n",
    "# Create a track for each data source\n",
    "t1 = tset1.track(\"heatmap\", height=300)\n",
    "t2 = tset2.track(\"heatmap\", height=300)\n",
    "\n",
    "# Create a custom DividedTrack and modify color scale\n",
    "t3 = hg.divide(t1, t2).opts(\n",
    "    colorRange=[\"blue\", \"white\"],\n",
    "    valueScaleMin=0.1,\n",
    "    valueScaleMax=10,\n",
    ")\n",
    "\n",
    "# Set initial view domains\n",
    "domain = (7e7, 8e7)\n",
    "v1 = hg.view(t1, width=4).domain(x=domain)\n",
    "v2 = hg.view(t2, width=4).domain(x=domain)\n",
    "v3 = hg.view(t3, width=4).domain(x=domain)\n",
    "\n",
    "(v1 | v3 | v2).locks(hg.lock(v1, v2, v3))"
   ]
  },
  {
   "cell_type": "markdown",
   "metadata": {},
   "source": [
    "## Extract track from another view config"
   ]
  },
  {
   "cell_type": "code",
   "execution_count": null,
   "metadata": {},
   "outputs": [],
   "source": [
    "# Load view config from URL\n",
    "url = \"https://gist.githubusercontent.com/manzt/c2c498dac3ca9804a2b8e4bc1af3b55b/raw/ee8426c9728e875b6f4d65030c61181c6ba29b53/example.json\"\n",
    "config = hg.Viewconf.from_url(url)\n",
    "\n",
    "# Display viewconfig\n",
    "config"
   ]
  },
  {
   "cell_type": "code",
   "execution_count": null,
   "metadata": {},
   "outputs": [],
   "source": [
    "# Inspect the Viewconf tracks\n",
    "for position, track in config.views[0].tracks:\n",
    "    print(position)  # position in view layout\n",
    "    print(track)  # python object from `higlass-schema`"
   ]
  },
  {
   "cell_type": "code",
   "execution_count": null,
   "metadata": {},
   "outputs": [],
   "source": [
    "# Extract a specific track from the above Viewconf and modify its properties\n",
    "gene_annotation_track = config.views[0].tracks.top[0].properties(height=200)\n",
    "\n",
    "# Display track in isolation\n",
    "hg.view(gene_annotation_track)"
   ]
  },
  {
   "cell_type": "markdown",
   "metadata": {},
   "source": [
    "## Remote bigWig tiles\n",
    "The next section requires `fuse` and `simple-httpfs` to be installed"
   ]
  },
  {
   "cell_type": "code",
   "execution_count": null,
   "metadata": {},
   "outputs": [],
   "source": [
    "%pip install fusepy simple-httpfs clodius"
   ]
  },
  {
   "cell_type": "code",
   "execution_count": null,
   "metadata": {},
   "outputs": [],
   "source": [
    "# set up FUSE\n",
    "import pathlib\n",
    "\n",
    "mount_dir = pathlib.Path.cwd() / \"mnt\"\n",
    "\n",
    "if not mount_dir.is_dir():\n",
    "    mount_dir.mkdir()\n",
    "\n",
    "# mount directory and start fuse\n",
    "hg.fuse.start(mount_dir.absolute())"
   ]
  },
  {
   "cell_type": "code",
   "execution_count": null,
   "metadata": {},
   "outputs": [],
   "source": [
    "import hg\n",
    "\n",
    "# get mounted path\n",
    "bwpath = hg.fuse.path(\n",
    "    f\"http://hgdownload.cse.ucsc.edu/goldenpath/hg19/encodeDCC/\"\n",
    "    f\"wgEncodeSydhTfbs/wgEncodeSydhTfbsGm12878InputStdSig.bigWig\"\n",
    ")\n",
    "\n",
    "track = hg.bigwig(bwpath).track(\"horizontal-bar\")\n",
    "hg.view(track)"
   ]
  },
  {
   "cell_type": "markdown",
   "metadata": {
    "tags": []
   },
   "source": [
    "## Local cooler files\n",
    "\n",
    "This section describes how to load cooler files that are on the same filesystem as the Jupyter notebook."
   ]
  },
  {
   "cell_type": "code",
   "execution_count": null,
   "metadata": {},
   "outputs": [],
   "source": [
    "tileset = hg.cooler(\"../test/data/Dixon2012-J1-NcoI-R1-filtered.100kb.multires.cool\")\n",
    "hg.view(tileset.track(\"heatmap\"))"
   ]
  },
  {
   "cell_type": "markdown",
   "metadata": {},
   "source": [
    "## Local bigWig files (with chromsizes)\n",
    "\n",
    "### TODO:  inline `chromsizes` tilesets are not yet implemented"
   ]
  },
  {
   "cell_type": "code",
   "execution_count": null,
   "metadata": {},
   "outputs": [],
   "source": [
    "chromsizes = [\n",
    "    (\"chr1\", 249250621),\n",
    "    (\"chr2\", 243199373),\n",
    "    (\"chr3\", 198022430),\n",
    "    (\"chr4\", 191154276),\n",
    "    (\"chr5\", 180915260),\n",
    "    (\"chr6\", 171115067),\n",
    "    (\"chr7\", 159138663),\n",
    "    (\"chr8\", 146364022),\n",
    "    (\"chr9\", 141213431),\n",
    "    (\"chr10\", 135534747),\n",
    "    (\"chr11\", 135006516),\n",
    "    (\"chr12\", 133851895),\n",
    "    (\"chr13\", 115169878),\n",
    "    (\"chr14\", 107349540),\n",
    "    (\"chr15\", 102531392),\n",
    "    (\"chr16\", 90354753),\n",
    "    (\"chr17\", 81195210),\n",
    "    (\"chr18\", 78077248),\n",
    "    (\"chr20\", 63025520),\n",
    "    (\"chr19\", 59128983),\n",
    "    (\"chr21\", 48129895),\n",
    "    (\"chr22\", 51304566),\n",
    "    (\"chrX\", 155270560),\n",
    "    (\"chrY\", 59373566),\n",
    "    (\"chrM\", 16571),\n",
    "]\n",
    "\n",
    "bigwig_fp = (\n",
    "    \"../test/data/wgEncodeCaltechRnaSeqHuvecR1x75dTh1014IlnaPlusSignalRep2.bigWig\"\n",
    ")\n",
    "ts = hg.bigwig(bigwig_fp, chromsizes=chromsizes)\n",
    "cs = hg.ChromSizes(chromsizes)\n",
    "\n",
    "view1 = View(\n",
    "    [\n",
    "        Track(\"top-axis\"),\n",
    "        Track(\"horizontal-bar\", tileset=ts),\n",
    "        Track(\"horizontal-chromosome-labels\", position=\"top\", tileset=cs),\n",
    "    ]\n",
    ")\n",
    "display, server, viewconf = higlass.display([view1])\n",
    "\n",
    "display"
   ]
  },
  {
   "cell_type": "markdown",
   "metadata": {},
   "source": [
    "## Local bedlike data\n",
    "\n",
    "### TODO:  inline `bedlike` tilesets are not yet implemented"
   ]
  },
  {
   "cell_type": "code",
   "execution_count": null,
   "metadata": {},
   "outputs": [],
   "source": [
    "import hg\n",
    "\n",
    "bed = [\n",
    "    [\"chr1\", 1000, 2000, \"item #1\", \".\", \"+\"],\n",
    "    [\"chr2\", 3000, 3500, \"item #1\", \".\", \"-\"],\n",
    "]\n",
    "\n",
    "chroms = [\n",
    "    [\"chr1\", 2100],\n",
    "    [\"chr2\", 4000],\n",
    "]\n",
    "\n",
    "\n",
    "data = bedtiles(bed, chroms)\n",
    "track = Track(\n",
    "    track_type=\"bedlike\",\n",
    "    position=\"top\",\n",
    "    height=50,\n",
    "    data=data,\n",
    "    options={\"minusStrandColor\": \"red\"},\n",
    ")\n",
    "\n",
    "\n",
    "d, s, v = higlass.display([[track]])\n",
    "d"
   ]
  },
  {
   "cell_type": "markdown",
   "metadata": {},
   "source": [
    "## Custom data"
   ]
  },
  {
   "cell_type": "code",
   "execution_count": null,
   "metadata": {},
   "outputs": [],
   "source": [
    "import numpy as np\n",
    "\n",
    "dim = 2000\n",
    "I, J = np.indices((dim, dim))\n",
    "data = -(J + 47) * np.sin(np.sqrt(np.abs(I / 2 + (J + 47)))) - I * np.sin(\n",
    "    np.sqrt(np.abs(I - (J + 47)))\n",
    ")"
   ]
  },
  {
   "cell_type": "code",
   "execution_count": null,
   "metadata": {},
   "outputs": [],
   "source": [
    "import clodius.tiles.npmatrix\n",
    "from hg.tilesets import LocalTileset\n",
    "\n",
    "ts = hg.server.add(\n",
    "    LocalTileset(\n",
    "        uid=\"my-custom-tileset\",\n",
    "        info=lambda: clodius.tiles.npmatrix.tileset_info(data),\n",
    "        tiles=lambda tids: clodius.tiles.npmatrix.tiles_wrapper(data, tids),\n",
    "    )\n",
    ")\n",
    "\n",
    "hg.view(\n",
    "    (hg.track(\"top-axis\"), \"top\"),\n",
    "    (hg.track(\"left-axis\"), \"left\"),\n",
    "    (ts.track(\"heatmap\", height=250).opts(valueScaleMax=0.5), \"center\"),\n",
    ")"
   ]
  },
  {
   "cell_type": "code",
   "execution_count": null,
   "metadata": {},
   "outputs": [],
   "source": []
  },
  {
   "cell_type": "code",
   "execution_count": null,
   "metadata": {},
   "outputs": [],
   "source": []
  }
 ],
 "metadata": {
  "kernelspec": {
   "display_name": "Python 3 (ipykernel)",
   "language": "python",
   "name": "python3"
  },
  "language_info": {
   "codemirror_mode": {
    "name": "ipython",
    "version": 3
   },
   "file_extension": ".py",
   "mimetype": "text/x-python",
   "name": "python",
   "nbconvert_exporter": "python",
   "pygments_lexer": "ipython3",
   "version": "3.11.0"
  }
 },
 "nbformat": 4,
 "nbformat_minor": 4
}
