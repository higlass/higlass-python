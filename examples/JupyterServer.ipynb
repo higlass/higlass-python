{
 "cells": [
  {
   "cell_type": "code",
   "execution_count": null,
   "id": "f1562cea-288f-4817-8ca7-606cd104630e",
   "metadata": {},
   "outputs": [],
   "source": [
    "# !wget -O test.mcool https://osf.io/3h9js/download"
   ]
  },
  {
   "cell_type": "code",
   "execution_count": null,
   "id": "db2277b1",
   "metadata": {},
   "outputs": [],
   "source": [
    "import higlass as hg\n",
    "\n",
    "ts1 = hg.cooler(\"./test.mcool\")  # local tileset\n",
    "hg.view(ts1.track(\"heatmap\"), width=6)"
   ]
  },
  {
   "cell_type": "code",
   "execution_count": null,
   "id": "2e2c753f-fb13-4d54-b031-10cf5865e138",
   "metadata": {},
   "outputs": [],
   "source": [
    "from dataclasses import dataclass\n",
    "\n",
    "from clodius.tiles.cooler import tiles, tileset_info\n",
    "\n",
    "\n",
    "@dataclass\n",
    "class MyCustomCoolerTileset(hg.Tileset):\n",
    "    path: str\n",
    "    datatype = \"matrix\"\n",
    "\n",
    "    def tiles(self, tile_ids):\n",
    "        return tiles(self.path, tile_ids)\n",
    "\n",
    "    def info(self):\n",
    "        return tileset_info(self.path)\n",
    "\n",
    "\n",
    "ts2 = MyCustomCoolerTileset(\"test.mcool\")\n",
    "hg.view(ts2.track())"
   ]
  },
  {
   "cell_type": "code",
   "execution_count": null,
   "id": "d2b9ae4d-85d0-4545-aeef-073ad7d0d4e9",
   "metadata": {},
   "outputs": [],
   "source": []
  },
  {
   "cell_type": "code",
   "execution_count": null,
   "id": "2a69dbe9-ad50-4e98-ac3b-b05285703760",
   "metadata": {},
   "outputs": [],
   "source": []
  },
  {
   "cell_type": "code",
   "execution_count": null,
   "id": "f4ea4dec-135f-49c7-b7ef-ff0c0ece8b45",
   "metadata": {},
   "outputs": [],
   "source": []
  },
  {
   "cell_type": "code",
   "execution_count": null,
   "id": "8e571a51-4b09-4da7-8d65-af28a5cf4703",
   "metadata": {},
   "outputs": [],
   "source": []
  }
 ],
 "metadata": {
  "kernelspec": {
   "display_name": "Python 3 (ipykernel)",
   "language": "python",
   "name": "python3"
  },
  "language_info": {
   "codemirror_mode": {
    "name": "ipython",
    "version": 3
   },
   "file_extension": ".py",
   "mimetype": "text/x-python",
   "name": "python",
   "nbconvert_exporter": "python",
   "pygments_lexer": "ipython3",
   "version": "3.13.0"
  }
 },
 "nbformat": 4,
 "nbformat_minor": 5
}
