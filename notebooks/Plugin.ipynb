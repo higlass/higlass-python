{
 "cells": [
  {
   "cell_type": "code",
   "execution_count": null,
   "id": "dc78fb28",
   "metadata": {},
   "outputs": [],
   "source": [
    "import os\n",
    "import sys\n",
    "\n",
    "# Install if in Google colab notebook\n",
    "if 'google.colab' in sys.modules:\n",
    "    os.system('python -m pip install --upgrade --force-reinstall git+https://github.com/manzt/hg')"
   ]
  },
  {
   "cell_type": "code",
   "execution_count": null,
   "id": "113ff05d",
   "metadata": {},
   "outputs": [],
   "source": [
    "# Config taken from https://github.com/higlass/higlass-pileup \n",
    "config = {\n",
    "  \"editable\": True,\n",
    "  \"trackSourceServers\": [\"http://higlass.io/api/v1\"],\n",
    "  \"exportViewUrl\": \"/api/v1/viewconfs\",\n",
    "  \"views\": [\n",
    "    {\n",
    "      \"initialXDomain\": [0, 100000],\n",
    "      \"tracks\": {\n",
    "        \"top\": [\n",
    "          {\n",
    "            \"type\": \"pileup\",\n",
    "            \"options\": {\n",
    "              \"axisPositionHorizontal\": \"right\",\n",
    "              \"axisLabelFormatting\": \"normal\",\n",
    "              \"showCoverage\": True,\n",
    "              \"colorScale\": [\n",
    "                \"#2c7bb6\",\n",
    "                \"#92c5de\",\n",
    "                \"#ffffbf\",\n",
    "                \"#fdae61\",\n",
    "                \"#808080\",\n",
    "                \"#DCDCDC\"\n",
    "              ]\n",
    "            },\n",
    "            \"height\": 180,\n",
    "            \"uid\": \"FylkvVBTSumoJ959HT4-5A\",\n",
    "            \"data\": {\n",
    "              \"type\": \"bam\",\n",
    "              \"url\": \"https://pkerp.s3.amazonaws.com/public/bamfile_test/SRR1770413.sorted.bam\",\n",
    "              \"chromSizesUrl\": \"https://pkerp.s3.amazonaws.com/public/bamfile_test/GCF_000005845.2_ASM584v2_genomic.chrom.sizes\",\n",
    "              \"options\": { \"maxTileWidth\": 30000 },\n",
    "            },\n",
    "            \"width\": 470\n",
    "          }\n",
    "        ]\n",
    "      },\n",
    "      \"layout\": { \"w\": 12, \"h\": 6, \"x\": 0, \"y\": 0 }\n",
    "    }\n",
    "  ]\n",
    "}"
   ]
  },
  {
   "cell_type": "markdown",
   "id": "f2a98c1c",
   "metadata": {},
   "source": [
    "The above config contains an unknown track type to `hg`, so we get a validation error because we don't know how to render the track!"
   ]
  },
  {
   "cell_type": "code",
   "execution_count": null,
   "id": "b143f386",
   "metadata": {},
   "outputs": [],
   "source": [
    "import hg\n",
    "hg.Viewconf(**config) # oh no, track not recognized!"
   ]
  },
  {
   "cell_type": "markdown",
   "id": "f20c1997",
   "metadata": {},
   "source": [
    "# `hg.PluginTrack`\n",
    "\n",
    "The `hg.PluginTrack` provides a mechanism to hook into the schema validation as well as provide the plugin source for the renderer. The `plugin_url` is a special field which is a `ClassVar` and ignored by pydantic for serde/validation. In `hg` a plugin can by created by subclassing `hg.PluginTrack` and specifying the `type` and `plugin_url`."
   ]
  },
  {
   "cell_type": "code",
   "execution_count": null,
   "id": "695eb664",
   "metadata": {},
   "outputs": [],
   "source": [
    "from typing import ClassVar, Union\n",
    "from typing_extensions import Literal\n",
    "\n",
    "class PileupTrack(hg.PluginTrack):\n",
    "    type: Literal['pileup']\n",
    "    plugin_url: ClassVar[str] = \"https://unpkg.com/higlass-pileup/dist/higlass-pileup.min.js\"\n",
    "        \n",
    "hg.Viewconf[Union[PileupTrack, hg.Track]](**config) # works!"
   ]
  },
  {
   "cell_type": "markdown",
   "id": "3fe2b263",
   "metadata": {},
   "source": [
    "How does this work? The `hg.Viewconf` is a `pydantic.GenericModel` which is _generic_ over the track type. By default, only HiGlass's builtin track types are recognized, so `hg.Viewconf(**data)` will throw an error when a configuration contains an unknown track.\n",
    "\n",
    "By supplying a our plugin track as a type parameter explicity, `hg.Viewconf[Union[PileupTrack, hg.Track]]`, we extend the model to recognize the `PileupTrack` in our config.\n",
    "\n",
    "This can seem a bit verbose, but supplying the type parameter explicitly is only necessary when deserializing an unknown config, e.g.\n",
    "\n",
    "```python\n",
    "hg.Viewconf.parse_file('./pileup-example.json') # error\n",
    "hg.Viewconf[PileupTrack].parse_file('./pileup-example.json') # works!\n",
    "```\n",
    "\n",
    "The `hg.track`, `hg.view`, and `hr.viewconf` utils _infer_ these types so you don't need to supply them!"
   ]
  },
  {
   "cell_type": "code",
   "execution_count": null,
   "id": "5caf10c1",
   "metadata": {},
   "outputs": [],
   "source": [
    "import hg\n",
    "from typing_extensions import Literal\n",
    "from typing import ClassVar"
   ]
  },
  {
   "cell_type": "code",
   "execution_count": null,
   "id": "f9d5f8c3",
   "metadata": {},
   "outputs": [],
   "source": [
    "class MultivecTrack(hg.PluginTrack):\n",
    "    type: Literal[\n",
    "        \"basic-multiple-line-chart\",\n",
    "        \"horizontal-stacked-bar\",\n",
    "        \"basic-multiple-bar-chart\",\n",
    "    ]\n",
    "    plugin_url: ClassVar[str] = \"https://unpkg.com/higlass-multivec/dist/higlass-multivec.min.js\""
   ]
  },
  {
   "cell_type": "code",
   "execution_count": null,
   "id": "d324eebf",
   "metadata": {},
   "outputs": [],
   "source": [
    "import hg\n",
    "from typing_extensions import Literal\n",
    "from typing import ClassVar\n",
    "\n",
    "class MultivecTrack(hg.PluginTrack):\n",
    "    type: Literal[\n",
    "        \"basic-multiple-line-chart\",\n",
    "        \"horizontal-stacked-bar\",\n",
    "        \"basic-multiple-bar-chart\",\n",
    "    ]\n",
    "    plugin_url: ClassVar[str] = \"https://unpkg.com/higlass-multivec/dist/higlass-multivec.min.js\"\n",
    "        \n",
    "track = MultivecTrack(**{\n",
    "    \"type\": \"horizontal-stacked-bar\",\n",
    "    \"tilesetUid\": \"my-multivec-db\",\n",
    "    \"server\": \"http://test1.resgen.io/api/v1\",\n",
    "    \"height\": 200,\n",
    "    \"width\": 470,\n",
    "    \"options\": {\n",
    "        \"labelPosition\": \"topLeft\",\n",
    "        \"labelColor\": \"black\",\n",
    "        \"labelTextOpacity\": 0.4,\n",
    "        \"valueScaling\": \"exponential\",\n",
    "        \"trackBorderWidth\": 0,\n",
    "        \"trackBorderColor\": \"black\",\n",
    "        \"heatmapValueScaling\": \"log\",\n",
    "        \"name\": \"all.KL.bed.multires.mv5\",\n",
    "        \"scaledHeight\": True,\n",
    "        \"backgroundColor\": \"white\",\n",
    "        \"sortLargestOnTop\": True,\n",
    "    },\n",
    "})\n",
    "\n",
    "track2 = PileupTrack(**config[\"views\"][0][\"tracks\"][\"top\"][0])\n",
    "\n",
    "hg.view((track, \"top\"), (track2, \"top\")) # types inferred!"
   ]
  },
  {
   "cell_type": "markdown",
   "id": "d61cdaa9",
   "metadata": {},
   "source": [
    "## Extending plugins with `pydantic`\n",
    "\n",
    "A `type` and `plugin_url` are minimally what is required to implement a plugin track, however, plugin may define additional fields using pydantic models, granting finer control over serde and validation.\n",
    "\n",
    "Below we define the `data` field on the `SequenceTrack` using a custom pydantic model."
   ]
  },
  {
   "cell_type": "code",
   "execution_count": null,
   "id": "1b7f04e9",
   "metadata": {},
   "outputs": [],
   "source": [
    "from pydantic import BaseModel, Extra\n",
    "from typing import Optional\n",
    "\n",
    "class SeqeuenceTrackData(BaseModel):\n",
    "    class Config:\n",
    "        extra = Extra.forbid\n",
    "    type: Literal[\"fasta\"]\n",
    "    fastaUrl: str\n",
    "    faiUrl: str\n",
    "    chromSizesUrl: str\n",
    "        \n",
    "class SequenceTrack(hg.PluginTrack):\n",
    "    type: Literal[\"horizontal-sequence\"]\n",
    "    data: Optional[SeqeuenceTrackData] = None\n",
    "    plugin_url: ClassVar[str] = \"https://unpkg.com/higlass-sequence/dist/higlass-sequence.js\"\n",
    "                \n",
    "track = SequenceTrack(**{\n",
    " \"uid\": \"seq_fasta_example\",\n",
    " \"type\": \"horizontal-sequence\",\n",
    " \"data\": {\n",
    "   \"type\": \"fasta\",\n",
    "   \"fastaUrl\": \"https://aveit.s3.amazonaws.com/higlass/data/sequence/hg38.fa\",\n",
    "   \"faiUrl\": \"https://aveit.s3.amazonaws.com/higlass/data/sequence/hg38.fa.fai\",\n",
    "   \"chromSizesUrl\": \"https://aveit.s3.amazonaws.com/higlass/data/sequence/hg38.mod.chrom.sizes\"\n",
    " },\n",
    " \"width\": 568,\n",
    " \"height\": 50\n",
    "})\n",
    "\n",
    "track.data # data is a pydantic model"
   ]
  },
  {
   "cell_type": "code",
   "execution_count": null,
   "id": "54e672a6",
   "metadata": {},
   "outputs": [],
   "source": [
    "track.data.json()"
   ]
  },
  {
   "cell_type": "code",
   "execution_count": null,
   "id": "6b1150f8",
   "metadata": {},
   "outputs": [],
   "source": [
    "track.data.dict()"
   ]
  },
  {
   "cell_type": "markdown",
   "id": "9a0f7310",
   "metadata": {},
   "source": [
    "And the track is faithfully rendered by HiGlass"
   ]
  },
  {
   "cell_type": "code",
   "execution_count": null,
   "id": "1bf4f80a",
   "metadata": {},
   "outputs": [],
   "source": [
    "hg.view((track, 'center'))"
   ]
  },
  {
   "cell_type": "code",
   "execution_count": null,
   "id": "b2f2c3f4",
   "metadata": {},
   "outputs": [],
   "source": []
  }
 ],
 "metadata": {
  "kernelspec": {
   "display_name": "Python 3 (ipykernel)",
   "language": "python",
   "name": "python3"
  },
  "language_info": {
   "codemirror_mode": {
    "name": "ipython",
    "version": 3
   },
   "file_extension": ".py",
   "mimetype": "text/x-python",
   "name": "python",
   "nbconvert_exporter": "python",
   "pygments_lexer": "ipython3",
   "version": "3.9.7"
  }
 },
 "nbformat": 4,
 "nbformat_minor": 5
}
