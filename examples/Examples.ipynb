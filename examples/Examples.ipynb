{
 "cells": [
  {
   "cell_type": "code",
   "execution_count": null,
   "metadata": {},
   "outputs": [],
   "source": [
    "%load_ext autoreload\n",
    "%autoreload 2"
   ]
  },
  {
   "cell_type": "code",
   "execution_count": null,
   "metadata": {},
   "outputs": [],
   "source": [
    "!pip install --pre higlass-python"
   ]
  },
  {
   "cell_type": "markdown",
   "metadata": {},
   "source": [
    "## Synced heatmaps"
   ]
  },
  {
   "cell_type": "code",
   "execution_count": null,
   "metadata": {},
   "outputs": [],
   "source": [
    "import higlass as hg\n",
    "\n",
    "# Configure remote data sources (tilesets)\n",
    "tileset1 = hg.remote(\n",
    "    uid=\"CQMd6V_cRw6iCI_-Unl3PQ\",\n",
    "    server=\"https://higlass.io/api/v1/\",\n",
    "    name=\"Rao et al. (2014) GM12878 MboI (allreps) 1kb\",\n",
    ")\n",
    "\n",
    "tileset2 = hg.remote(\n",
    "    uid=\"QvdMEvccQuOxKTEjrVL3wA\",\n",
    "    server=\"https://higlass.io/api/v1/\",\n",
    "    name=\"Rao et al. (2014) K562 MboI (allreps) 1kb\",\n",
    ")\n",
    "\n",
    "# Create a HeatmapTrack for each tileset\n",
    "track1 = tileset1.track(\"heatmap\")\n",
    "track2 = tileset2.track(\"heatmap\")\n",
    "\n",
    "# Create two independent Views, one for each heatmap\n",
    "view1 = hg.view(track1, width=6)\n",
    "view2 = hg.view(track2, width=6)\n",
    "\n",
    "# Lock zoom & location for each View\n",
    "view_lock = hg.lock(view1, view2)\n",
    "\n",
    "# Concatenate Views side-by-side, and apply synchronization lock\n",
    "(view1 | view2).locks(view_lock)"
   ]
  },
  {
   "cell_type": "code",
   "execution_count": null,
   "metadata": {},
   "outputs": [],
   "source": [
    "# Lock zoom only for each view\n",
    "(view1 | view2).locks(zoom=view_lock)"
   ]
  },
  {
   "cell_type": "code",
   "execution_count": null,
   "metadata": {},
   "outputs": [],
   "source": [
    "# Lock location only for each view\n",
    "(view1 | view2).locks(location=view_lock)"
   ]
  },
  {
   "cell_type": "code",
   "execution_count": null,
   "metadata": {},
   "outputs": [],
   "source": [
    "# Create additional views and synchronize (apply black to white color range)\n",
    "\n",
    "bw_color_range = [\"rgba(255,255,255,1)\", \"rgba(0,0,0,1)\"]\n",
    "view3 = hg.view(track1.opts(colorRange=bw_color_range), width=6)\n",
    "view4 = hg.view(track2.opts(colorRange=bw_color_range), width=6)\n",
    "\n",
    "# Create stacked view configuration and lock views by column\n",
    "((view1 / view2) | (view3 / view4)).locks(\n",
    "    hg.lock(view1, view2),\n",
    "    hg.lock(view3, view4),\n",
    ")"
   ]
  },
  {
   "cell_type": "markdown",
   "metadata": {},
   "source": [
    "## Value scale syncing"
   ]
  },
  {
   "cell_type": "code",
   "execution_count": null,
   "metadata": {},
   "outputs": [],
   "source": [
    "# Create Tracks\n",
    "\n",
    "# creates a hg.Track without a tileset\n",
    "t1 = hg.track(\"top-axis\")\n",
    "\n",
    "# Creates a hg.RemoteTileset object\n",
    "remote_tileset = hg.remote(\n",
    "    uid=\"CQMd6V_cRw6iCI_-Unl3PQ\",\n",
    "    server=\"https://higlass.io/api/v1/\",  # optional, \"http://higlass.io/api/v1/\"\n",
    "    name=\"Rao et al. (2014) GM12878 MboI (allreps) 1kb\",\n",
    ")\n",
    "\n",
    "# Tileset.track() creates a hg.Track object binding the parent Tileset\n",
    "t2 = remote_tileset.track(\"heatmap\").opts(valueScaleMax=0.5)\n",
    "\n",
    "# Create Views\n",
    "\n",
    "# Positional arguments for `hg.view` are overloaded. Keyword arguments are\n",
    "# forwarded to the creation of the `hg.View`. Layout fields (`x`, `y`,\n",
    "# `width`, `height`) may also be assigned.\n",
    "\n",
    "# (1) Track objects (positioning guessed based on track type)\n",
    "view1 = hg.view(t1, t2, width=6)\n",
    "\n",
    "# (2) (Track, position) tuple\n",
    "view2 = hg.view((t1, \"top\"), t2, width=6)\n",
    "\n",
    "# (3) hg.Tracks object\n",
    "view3 = hg.view(hg.Tracks(top=[t1], center=[t2]), width=6)\n",
    "\n",
    "# (View, Track) tuples -> ScaleValueLock\n",
    "scale_value_lock = hg.lock((view1, t2), (view2, t2))\n",
    "\n",
    "(view1 | view2).locks(scale_value_lock)"
   ]
  },
  {
   "cell_type": "markdown",
   "metadata": {},
   "source": [
    "## Remote heatmaps"
   ]
  },
  {
   "cell_type": "code",
   "execution_count": null,
   "metadata": {},
   "outputs": [],
   "source": [
    "# Initialize data sources\n",
    "tset1 = hg.remote(\n",
    "    uid=\"CQMd6V_cRw6iCI_-Unl3PQ\",\n",
    "    name=\"Rao et al. (2014) GM12878 MboI (allreps) 1kb\",\n",
    ")\n",
    "\n",
    "tset2 = hg.remote(\n",
    "    uid=\"QvdMEvccQuOxKTEjrVL3wA\",\n",
    "    name=\"Rao et al. (2014) K562 MboI (allreps) 1kb\",\n",
    ")\n",
    "\n",
    "# Create a track for each data source\n",
    "t1 = tset1.track(\"heatmap\", height=300)\n",
    "t2 = tset2.track(\"heatmap\", height=300)\n",
    "\n",
    "# Create a custom DividedTrack and modify color scale\n",
    "t3 = hg.divide(t1, t2).opts(\n",
    "    colorRange=[\"blue\", \"white\"],\n",
    "    valueScaleMin=0.1,\n",
    "    valueScaleMax=10,\n",
    ")\n",
    "\n",
    "# Set initial view domains\n",
    "domain = (7e7, 8e7)\n",
    "v1 = hg.view(t1, width=4).domain(x=domain)\n",
    "v2 = hg.view(t2, width=4).domain(x=domain)\n",
    "v3 = hg.view(t3, width=4).domain(x=domain)\n",
    "\n",
    "(v1 | v3 | v2).locks(hg.lock(v1, v2, v3))"
   ]
  },
  {
   "cell_type": "markdown",
   "metadata": {},
   "source": [
    "## Extract track from another view config"
   ]
  },
  {
   "cell_type": "code",
   "execution_count": null,
   "metadata": {},
   "outputs": [],
   "source": [
    "# Load view config from URL\n",
    "url = \"https://gist.githubusercontent.com/manzt/c2c498dac3ca9804a2b8e4bc1af3b55b/raw/ee8426c9728e875b6f4d65030c61181c6ba29b53/example.json\"\n",
    "config = hg.Viewconf.from_url(url)\n",
    "\n",
    "# Display viewconfig\n",
    "config"
   ]
  },
  {
   "cell_type": "code",
   "execution_count": null,
   "metadata": {},
   "outputs": [],
   "source": [
    "# Inspect the Viewconf tracks\n",
    "for position, track in config.views[0].tracks:\n",
    "    print(position)  # position in view layout\n",
    "    print(track)  # python object from `higlass-schema`"
   ]
  },
  {
   "cell_type": "code",
   "execution_count": null,
   "metadata": {},
   "outputs": [],
   "source": [
    "# Extract a specific track from the above Viewconf and modify its properties\n",
    "gene_annotation_track = config.views[0].tracks.top[0].properties(height=200)\n",
    "\n",
    "# Display track in isolation\n",
    "hg.view(gene_annotation_track)"
   ]
  },
  {
   "cell_type": "markdown",
   "metadata": {},
   "source": [
    "## Local bigWig files"
   ]
  },
  {
   "cell_type": "code",
   "execution_count": null,
   "metadata": {},
   "outputs": [],
   "source": [
    "!wget http://hgdownload.cse.ucsc.edu/goldenpath/hg19/encodeDCC/wgEncodeSydhTfbs/wgEncodeSydhTfbsGm12878InputStdSig.bigWig"
   ]
  },
  {
   "cell_type": "code",
   "execution_count": null,
   "metadata": {},
   "outputs": [],
   "source": [
    "tileset = hg.bigwig(\"wgEncodeSydhTfbsGm12878InputStdSig.bigWig\")\n",
    "hg.view(tileset.track(\"horizontal-bar\"))"
   ]
  },
  {
   "cell_type": "markdown",
   "metadata": {},
   "source": [
    "## Local cooler files\n",
    "\n",
    "This section describes how to load cooler files that are on the same filesystem as the Jupyter notebook."
   ]
  },
  {
   "cell_type": "code",
   "execution_count": null,
   "metadata": {},
   "outputs": [],
   "source": [
    "tileset = hg.cooler(\"../test/data/Dixon2012-J1-NcoI-R1-filtered.100kb.multires.cool\")\n",
    "hg.view(tileset.track(\"heatmap\"))"
   ]
  }
 ],
 "metadata": {
  "kernelspec": {
   "display_name": "Python 3 (ipykernel)",
   "language": "python",
   "name": "python3"
  },
  "language_info": {
   "codemirror_mode": {
    "name": "ipython",
    "version": 3
   },
   "file_extension": ".py",
   "mimetype": "text/x-python",
   "name": "python",
   "nbconvert_exporter": "python",
   "pygments_lexer": "ipython3",
   "version": "3.13.0"
  }
 },
 "nbformat": 4,
 "nbformat_minor": 4
}
