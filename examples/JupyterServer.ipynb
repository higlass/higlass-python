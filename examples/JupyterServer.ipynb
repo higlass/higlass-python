{
 "cells": [
  {
   "cell_type": "code",
   "execution_count": null,
   "id": "f1562cea-288f-4817-8ca7-606cd104630e",
   "metadata": {},
   "outputs": [],
   "source": [
    "# !wget -O test.mcool https://osf.io/3h9js/download\t"
   ]
  },
  {
   "cell_type": "code",
   "execution_count": null,
   "id": "db2277b1",
   "metadata": {},
   "outputs": [],
   "source": [
    "import higlass as hg\n",
    "import ipywidgets\n",
    "import traitlets\n",
    "import itertools\n",
    "\n",
    "# TODO: Need to find an abstraction that brings this into notebooks.\n",
    "class Tilesets(ipywidgets.DOMWidget):\n",
    "    value = traitlets.Int(0).tag(sync=True)\n",
    "    def __init__(self):\n",
    "        super().__init__()\n",
    "        self.on_msg(self._handle_custom_msg)\n",
    "        self.ts = dict()\n",
    "\n",
    "    def add(self, ts):\n",
    "        self.ts[ts.tileset.uid] = ts.tileset\n",
    "        return self\n",
    "\n",
    "    def _handle_custom_msg(self, data, buffers):\n",
    "        payload = data[\"payload\"]\n",
    "        uuid = data[\"uuid\"]\n",
    "        match payload:\n",
    "            case { \"type\": \"tileset_info\", \"tilesetUid\": uid }:\n",
    "                info = { uid: self.ts[uid].info() }\n",
    "                self.send({ \"uuid\": uuid, \"payload\": info })\n",
    "            case { \"type\": \"tiles\", \"tileIds\": tids }:\n",
    "                all_tiles = []\n",
    "                for uid, tids in itertools.groupby(\n",
    "                    iterable=sorted(tids), key=lambda tid: tid.split(\".\")[0]\n",
    "                ):\n",
    "                    tiles = self.ts[uid].tiles(list(tids))\n",
    "                    all_tiles.extend(tiles)\n",
    "                data = {tid: tval for tid, tval in all_tiles}\n",
    "                self.send({ \"uuid\": uuid, \"payload\": data })\n",
    "            case _:\n",
    "                raise ValueError(\"Something's wrong with the Internet\")\n",
    "\n",
    "ts = hg.cooler(\"./test.mcool\")\n",
    "tss = Tilesets().add(ts)\n",
    "track = ts.track(\"heatmap\")\n",
    "hg.view(track, width=6).widget(ts=tss)"
   ]
  },
  {
   "cell_type": "code",
   "execution_count": null,
   "id": "12cfe9dc-ddec-4e77-b1a2-6e6378a9dc64",
   "metadata": {},
   "outputs": [],
   "source": []
  }
 ],
 "metadata": {
  "kernelspec": {
   "display_name": "Python 3 (ipykernel)",
   "language": "python",
   "name": "python3"
  },
  "language_info": {
   "codemirror_mode": {
    "name": "ipython",
    "version": 3
   },
   "file_extension": ".py",
   "mimetype": "text/x-python",
   "name": "python",
   "nbconvert_exporter": "python",
   "pygments_lexer": "ipython3",
   "version": "3.13.0"
  }
 },
 "nbformat": 4,
 "nbformat_minor": 5
}
