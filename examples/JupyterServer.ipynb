{
 "cells": [
  {
   "cell_type": "code",
   "execution_count": null,
   "id": "f1562cea-288f-4817-8ca7-606cd104630e",
   "metadata": {},
   "outputs": [],
   "source": [
    "# !wget -O test.mcool https://osf.io/3h9js/download\t"
   ]
  },
  {
   "cell_type": "code",
   "execution_count": null,
   "id": "cb821494-5242-4c55-aa62-9ea545487fa4",
   "metadata": {},
   "outputs": [],
   "source": [
    "%env ANYWIDGET_HMR=1"
   ]
  },
  {
   "cell_type": "code",
   "execution_count": null,
   "id": "db2277b1",
   "metadata": {},
   "outputs": [],
   "source": [
    "import higlass as hg\n",
    "import ipywidgets\n",
    "import traitlets\n",
    "\n",
    "import itertools\n",
    "\n",
    "# TODO: Need to find an abstraction that brings this into notebooks.\n",
    "class Tilesets(ipywidgets.DOMWidget):\n",
    "    value = traitlets.Int(0).tag(sync=True)\n",
    "    def __init__(self):\n",
    "        super().__init__()\n",
    "        self.on_msg(self._handle_custom_msg)\n",
    "        self.ts = dict()\n",
    "\n",
    "    def add(self, ts):\n",
    "        self.ts[ts.tileset.uid] = ts.tileset\n",
    "        return self\n",
    "\n",
    "    def _handle_custom_msg(self, msg, buffers):\n",
    "        match msg[\"payload\"]:\n",
    "            case { \"type\": \"tileset_info\", \"tilesetUid\": tileset_uid }:\n",
    "                self.send({\n",
    "                    \"id\": msg[\"id\"],\n",
    "                    \"payload\": { tileset_uid: self.ts[tileset_uid].info() },\n",
    "                })\n",
    "            case { \"type\": \"tiles\", \"tileIds\": tile_ids }:\n",
    "                tiles = []\n",
    "                for tileset_uid, group_tile_ids in itertools.groupby(\n",
    "                    iterable=sorted(tile_ids), key=lambda tile_id: tile_id.split(\".\")[0]\n",
    "                ):\n",
    "                    tiles.extend(\n",
    "                        self.ts[tileset_uid].tiles(list(group_tile_ids))\n",
    "                    )\n",
    "                self.send({\n",
    "                    \"id\": msg[\"id\"],\n",
    "                    \"payload\": { tile_id: tile for tile_id, tile in tiles },\n",
    "                })\n",
    "            case _:\n",
    "                raise ValueError(\"Something's wrong with the Internet\")\n",
    "\n",
    "ts = hg.cooler(\"./test.mcool\")\n",
    "tss = Tilesets().add(ts)\n",
    "track = ts.track(\"heatmap\")\n",
    "hg.view(track, width=6).widget(ts=tss)"
   ]
  },
  {
   "cell_type": "code",
   "execution_count": null,
   "id": "6e87276a-8737-4634-b133-4d7cf5e84cbe",
   "metadata": {},
   "outputs": [],
   "source": []
  },
  {
   "cell_type": "code",
   "execution_count": null,
   "id": "2e2c753f-fb13-4d54-b031-10cf5865e138",
   "metadata": {},
   "outputs": [],
   "source": []
  },
  {
   "cell_type": "code",
   "execution_count": null,
   "id": "d2b9ae4d-85d0-4545-aeef-073ad7d0d4e9",
   "metadata": {},
   "outputs": [],
   "source": []
  },
  {
   "cell_type": "code",
   "execution_count": null,
   "id": "2a69dbe9-ad50-4e98-ac3b-b05285703760",
   "metadata": {},
   "outputs": [],
   "source": []
  },
  {
   "cell_type": "code",
   "execution_count": null,
   "id": "f4ea4dec-135f-49c7-b7ef-ff0c0ece8b45",
   "metadata": {},
   "outputs": [],
   "source": []
  },
  {
   "cell_type": "code",
   "execution_count": null,
   "id": "8e571a51-4b09-4da7-8d65-af28a5cf4703",
   "metadata": {},
   "outputs": [],
   "source": []
  }
 ],
 "metadata": {
  "kernelspec": {
   "display_name": "Python 3 (ipykernel)",
   "language": "python",
   "name": "python3"
  },
  "language_info": {
   "codemirror_mode": {
    "name": "ipython",
    "version": 3
   },
   "file_extension": ".py",
   "mimetype": "text/x-python",
   "name": "python",
   "nbconvert_exporter": "python",
   "pygments_lexer": "ipython3",
   "version": "3.13.0"
  }
 },
 "nbformat": 4,
 "nbformat_minor": 5
}
