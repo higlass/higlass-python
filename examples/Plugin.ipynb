{
 "cells": [
  {
   "cell_type": "code",
   "execution_count": null,
   "id": "dc78fb28",
   "metadata": {},
   "outputs": [],
   "source": [
    "import os\n",
    "import sys\n",
    "\n",
    "# Install if in Google colab notebook\n",
    "if \"google.colab\" in sys.modules:\n",
    "    os.system(\n",
    "        \"python -m pip install --upgrade --force-reinstall git+https://github.com/higlass/higlass-python\"\n",
    "    )"
   ]
  },
  {
   "cell_type": "code",
   "execution_count": 1,
   "id": "113ff05d",
   "metadata": {},
   "outputs": [],
   "source": [
    "# Config taken from https://github.com/higlass/higlass-pileup\n",
    "config = {\n",
    "    \"editable\": True,\n",
    "    \"trackSourceServers\": [\"http://higlass.io/api/v1\"],\n",
    "    \"exportViewUrl\": \"/api/v1/viewconfs\",\n",
    "    \"views\": [\n",
    "        {\n",
    "            \"initialXDomain\": [0, 100000],\n",
    "            \"tracks\": {\n",
    "                \"top\": [\n",
    "                    {\n",
    "                        \"type\": \"pileup\",\n",
    "                        \"options\": {\n",
    "                            \"axisPositionHorizontal\": \"right\",\n",
    "                            \"axisLabelFormatting\": \"normal\",\n",
    "                            \"showCoverage\": True,\n",
    "                            \"colorScale\": [\n",
    "                                \"#2c7bb6\",\n",
    "                                \"#92c5de\",\n",
    "                                \"#ffffbf\",\n",
    "                                \"#fdae61\",\n",
    "                                \"#808080\",\n",
    "                                \"#DCDCDC\",\n",
    "                            ],\n",
    "                        },\n",
    "                        \"height\": 180,\n",
    "                        \"uid\": \"FylkvVBTSumoJ959HT4-5A\",\n",
    "                        \"data\": {\n",
    "                            \"type\": \"bam\",\n",
    "                            \"url\": \"https://pkerp.s3.amazonaws.com/public/bamfile_test/SRR1770413.sorted.bam\",\n",
    "                            \"chromSizesUrl\": \"https://pkerp.s3.amazonaws.com/public/bamfile_test/GCF_000005845.2_ASM584v2_genomic.chrom.sizes\",\n",
    "                            \"options\": {\"maxTileWidth\": 30000},\n",
    "                        },\n",
    "                        \"width\": 470,\n",
    "                    }\n",
    "                ]\n",
    "            },\n",
    "            \"layout\": {\"w\": 12, \"h\": 6, \"x\": 0, \"y\": 0},\n",
    "        }\n",
    "    ],\n",
    "}"
   ]
  },
  {
   "cell_type": "markdown",
   "id": "f2a98c1c",
   "metadata": {},
   "source": [
    "The above config contains an unknown track type to `hg`, so we get a validation error because we don't know how to render the track!"
   ]
  },
  {
   "cell_type": "code",
   "execution_count": 2,
   "id": "b143f386",
   "metadata": {},
   "outputs": [
    {
     "ename": "AttributeError",
     "evalue": "'PluginTrack' object has no attribute 'plugin_url'",
     "output_type": "error",
     "traceback": [
      "\u001b[0;31m---------------------------------------------------------------------------\u001b[0m",
      "\u001b[0;31mAttributeError\u001b[0m                            Traceback (most recent call last)",
      "File \u001b[0;32m~/dev/mambaforge/envs/higlass/lib/python3.11/site-packages/IPython/core/formatters.py:972\u001b[0m, in \u001b[0;36mMimeBundleFormatter.__call__\u001b[0;34m(self, obj, include, exclude)\u001b[0m\n\u001b[1;32m    969\u001b[0m     method \u001b[38;5;241m=\u001b[39m get_real_method(obj, \u001b[38;5;28mself\u001b[39m\u001b[38;5;241m.\u001b[39mprint_method)\n\u001b[1;32m    971\u001b[0m     \u001b[38;5;28;01mif\u001b[39;00m method \u001b[38;5;129;01mis\u001b[39;00m \u001b[38;5;129;01mnot\u001b[39;00m \u001b[38;5;28;01mNone\u001b[39;00m:\n\u001b[0;32m--> 972\u001b[0m         \u001b[38;5;28;01mreturn\u001b[39;00m \u001b[43mmethod\u001b[49m\u001b[43m(\u001b[49m\u001b[43minclude\u001b[49m\u001b[38;5;241;43m=\u001b[39;49m\u001b[43minclude\u001b[49m\u001b[43m,\u001b[49m\u001b[43m \u001b[49m\u001b[43mexclude\u001b[49m\u001b[38;5;241;43m=\u001b[39;49m\u001b[43mexclude\u001b[49m\u001b[43m)\u001b[49m\n\u001b[1;32m    973\u001b[0m     \u001b[38;5;28;01mreturn\u001b[39;00m \u001b[38;5;28;01mNone\u001b[39;00m\n\u001b[1;32m    974\u001b[0m \u001b[38;5;28;01melse\u001b[39;00m:\n",
      "File \u001b[0;32m~/github/higlass/higlass-python/src/higlass/api.py:165\u001b[0m, in \u001b[0;36mViewconf._repr_mimebundle_\u001b[0;34m(self, include, exclude)\u001b[0m\n\u001b[1;32m    163\u001b[0m \u001b[38;5;28;01mdef\u001b[39;00m \u001b[38;5;21m_repr_mimebundle_\u001b[39m(\u001b[38;5;28mself\u001b[39m, include\u001b[38;5;241m=\u001b[39m\u001b[38;5;28;01mNone\u001b[39;00m, exclude\u001b[38;5;241m=\u001b[39m\u001b[38;5;28;01mNone\u001b[39;00m):\n\u001b[1;32m    164\u001b[0m     renderer \u001b[38;5;241m=\u001b[39m display\u001b[38;5;241m.\u001b[39mrenderers\u001b[38;5;241m.\u001b[39mget()\n\u001b[0;32m--> 165\u001b[0m     plugin_urls \u001b[38;5;241m=\u001b[39m [] \u001b[38;5;28;01mif\u001b[39;00m \u001b[38;5;28mself\u001b[39m\u001b[38;5;241m.\u001b[39mviews \u001b[38;5;129;01mis\u001b[39;00m \u001b[38;5;28;01mNone\u001b[39;00m \u001b[38;5;28;01melse\u001b[39;00m \u001b[43mgather_plugin_urls\u001b[49m\u001b[43m(\u001b[49m\u001b[38;5;28;43mself\u001b[39;49m\u001b[38;5;241;43m.\u001b[39;49m\u001b[43mviews\u001b[49m\u001b[43m)\u001b[49m\n\u001b[1;32m    166\u001b[0m     \u001b[38;5;28;01mreturn\u001b[39;00m renderer(\u001b[38;5;28mself\u001b[39m\u001b[38;5;241m.\u001b[39mjson(), plugin_urls\u001b[38;5;241m=\u001b[39mplugin_urls)\n",
      "File \u001b[0;32m~/github/higlass/higlass-python/src/higlass/api.py:158\u001b[0m, in \u001b[0;36mgather_plugin_urls\u001b[0;34m(views)\u001b[0m\n\u001b[1;32m    156\u001b[0m     \u001b[38;5;28;01mfor\u001b[39;00m _, track \u001b[38;5;129;01min\u001b[39;00m view\u001b[38;5;241m.\u001b[39mtracks:\n\u001b[1;32m    157\u001b[0m         \u001b[38;5;28;01mif\u001b[39;00m \u001b[38;5;28misinstance\u001b[39m(track, PluginTrack):\n\u001b[0;32m--> 158\u001b[0m             plugin_urls[track\u001b[38;5;241m.\u001b[39mtype] \u001b[38;5;241m=\u001b[39m \u001b[43mtrack\u001b[49m\u001b[38;5;241;43m.\u001b[39;49m\u001b[43mplugin_url\u001b[49m\n\u001b[1;32m    159\u001b[0m \u001b[38;5;28;01mreturn\u001b[39;00m \u001b[38;5;28mlist\u001b[39m(plugin_urls\u001b[38;5;241m.\u001b[39mvalues())\n",
      "\u001b[0;31mAttributeError\u001b[0m: 'PluginTrack' object has no attribute 'plugin_url'"
     ]
    },
    {
     "data": {
      "text/plain": [
       "Viewconf(editable=True, viewEditable=True, tracksEditable=True, zoomFixed=None, compactLayout=None, exportViewUrl='/api/v1/viewconfs', trackSourceServers=['http://higlass.io/api/v1'], views=[View(layout=Layout(x=0, y=0, w=12, h=6, moved=None, static=None), tracks=Tracks[TrackT](left=None, right=None, top=[PluginTrack(type='pileup', uid='FylkvVBTSumoJ959HT4-5A', width=470, height=180, options={'axisPositionHorizontal': 'right', 'axisLabelFormatting': 'normal', 'showCoverage': True, 'colorScale': ['#2c7bb6', '#92c5de', '#ffffbf', '#fdae61', '#808080', '#DCDCDC']}, data={'type': 'bam', 'url': 'https://pkerp.s3.amazonaws.com/public/bamfile_test/SRR1770413.sorted.bam', 'chromSizesUrl': 'https://pkerp.s3.amazonaws.com/public/bamfile_test/GCF_000005845.2_ASM584v2_genomic.chrom.sizes', 'options': {'maxTileWidth': 30000}})], bottom=None, center=None, whole=None, gallery=None), uid=None, autocompleteSource=None, chromInfoPath=None, genomePositionSearchBox=None, genomePositionSearchBoxVisible=None, initialXDomain=(0.0, 100000.0), initialYDomain=None, overlays=None, selectionView=None, zoomFixed=None, zoomLimits=(1, None))], zoomLocks=None, locationLocks=None, valueScaleLocks=None, chromInfoPath=None)"
      ]
     },
     "execution_count": 2,
     "metadata": {},
     "output_type": "execute_result"
    }
   ],
   "source": [
    "import higlass as hg\n",
    "\n",
    "hg.Viewconf(**config)  # oh no, track not recognized!"
   ]
  },
  {
   "cell_type": "markdown",
   "id": "f20c1997",
   "metadata": {},
   "source": [
    "# `hg.PluginTrack`\n",
    "\n",
    "The `hg.PluginTrack` provides a mechanism to hook into the schema validation as well as provide the plugin source for the renderer. The `plugin_url` is a special field which is a `ClassVar` and ignored by pydantic for serde/validation. In `hg` a plugin can by created by subclassing `hg.PluginTrack` and specifying the `type` and `plugin_url`."
   ]
  },
  {
   "cell_type": "code",
   "execution_count": 4,
   "id": "695eb664",
   "metadata": {},
   "outputs": [
    {
     "data": {
      "text/html": [
       "\n",
       "<!DOCTYPE html>\n",
       "<html>\n",
       "  <head>\n",
       "    <link rel=\"stylesheet\" href=\"https://esm.sh/higlass@1.11/dist/hglib.css\">\n",
       "    <script src=\"https://unpkg.com/requirejs-toggle\"></script>\n",
       "    \n",
       "    <script src=\"https://unpkg.com/higlass-pileup/dist/higlass-pileup.min.js\"></script>\n",
       "    \n",
       "    <script src=\"https://unpkg.com/requirejs-toggle\"></script>\n",
       "  </head>\n",
       "  <body>\n",
       "    <div id=\"jupyter-hg-2ce45a4b6a1a404793aa6b3ef0475bff\"></div>\n",
       "  </body>\n",
       "  <script type=\"module\">\n",
       "    import hglib from \"https://esm.sh/higlass@1.11?deps=react@17,react-dom@17,pixi.js@6\";\n",
       "    hglib.viewer(\n",
       "      document.getElementById('jupyter-hg-2ce45a4b6a1a404793aa6b3ef0475bff'),\n",
       "      JSON.parse(\"{\\\"editable\\\": true, \\\"viewEditable\\\": true, \\\"tracksEditable\\\": true, \\\"exportViewUrl\\\": \\\"/api/v1/viewconfs\\\", \\\"trackSourceServers\\\": [\\\"http://higlass.io/api/v1\\\"], \\\"views\\\": [{\\\"layout\\\": {\\\"x\\\": 0, \\\"y\\\": 0, \\\"w\\\": 12, \\\"h\\\": 6}, \\\"tracks\\\": {\\\"top\\\": [{\\\"type\\\": \\\"pileup\\\", \\\"uid\\\": \\\"FylkvVBTSumoJ959HT4-5A\\\", \\\"width\\\": 470, \\\"height\\\": 180, \\\"options\\\": {\\\"axisPositionHorizontal\\\": \\\"right\\\", \\\"axisLabelFormatting\\\": \\\"normal\\\", \\\"showCoverage\\\": true, \\\"colorScale\\\": [\\\"#2c7bb6\\\", \\\"#92c5de\\\", \\\"#ffffbf\\\", \\\"#fdae61\\\", \\\"#808080\\\", \\\"#DCDCDC\\\"]}, \\\"data\\\": {\\\"type\\\": \\\"bam\\\", \\\"url\\\": \\\"https://pkerp.s3.amazonaws.com/public/bamfile_test/SRR1770413.sorted.bam\\\", \\\"chromSizesUrl\\\": \\\"https://pkerp.s3.amazonaws.com/public/bamfile_test/GCF_000005845.2_ASM584v2_genomic.chrom.sizes\\\", \\\"options\\\": {\\\"maxTileWidth\\\": 30000}}}]}, \\\"initialXDomain\\\": [0.0, 100000.0], \\\"zoomLimits\\\": [1, null]}]}\"),\n",
       "    );\n",
       "    </script>\n",
       "</html>"
      ],
      "text/plain": [
       "Viewconf[Union[PileupTrack, HeatmapTrack, IndependentViewportProjectionTrack, EnumTrack, CombinedTrack, PluginTrack]](editable=True, viewEditable=True, tracksEditable=True, zoomFixed=None, compactLayout=None, exportViewUrl='/api/v1/viewconfs', trackSourceServers=['http://higlass.io/api/v1'], views=[View[Union[PileupTrack, HeatmapTrack, IndependentViewportProjectionTrack, EnumTrack, CombinedTrack, PluginTrack]](layout=Layout(x=0, y=0, w=12, h=6, moved=None, static=None), tracks=Tracks[TrackT][Union[PileupTrack, HeatmapTrack, IndependentViewportProjectionTrack, EnumTrack, CombinedTrack, PluginTrack]](left=None, right=None, top=[PileupTrack(type='pileup', uid='FylkvVBTSumoJ959HT4-5A', width=470, height=180, options={'axisPositionHorizontal': 'right', 'axisLabelFormatting': 'normal', 'showCoverage': True, 'colorScale': ['#2c7bb6', '#92c5de', '#ffffbf', '#fdae61', '#808080', '#DCDCDC']}, data={'type': 'bam', 'url': 'https://pkerp.s3.amazonaws.com/public/bamfile_test/SRR1770413.sorted.bam', 'chromSizesUrl': 'https://pkerp.s3.amazonaws.com/public/bamfile_test/GCF_000005845.2_ASM584v2_genomic.chrom.sizes', 'options': {'maxTileWidth': 30000}})], bottom=None, center=None, whole=None, gallery=None), uid=None, autocompleteSource=None, chromInfoPath=None, genomePositionSearchBox=None, genomePositionSearchBoxVisible=None, initialXDomain=(0.0, 100000.0), initialYDomain=None, overlays=None, selectionView=None, zoomFixed=None, zoomLimits=(1, None))], zoomLocks=None, locationLocks=None, valueScaleLocks=None, chromInfoPath=None)"
      ]
     },
     "execution_count": 4,
     "metadata": {},
     "output_type": "execute_result"
    }
   ],
   "source": [
    "from typing import ClassVar, Union\n",
    "\n",
    "from typing_extensions import Literal\n",
    "\n",
    "\n",
    "class PileupTrack(hg.PluginTrack):\n",
    "    type: Literal[\"pileup\"]\n",
    "    plugin_url: ClassVar[\n",
    "        str\n",
    "    ] = \"https://unpkg.com/higlass-pileup/dist/higlass-pileup.min.js\"\n",
    "\n",
    "\n",
    "hg.Viewconf[Union[PileupTrack, hg.Track]](**config)  # works!"
   ]
  },
  {
   "cell_type": "markdown",
   "id": "3fe2b263",
   "metadata": {},
   "source": [
    "How does this work? The `hg.Viewconf` is a `pydantic.GenericModel` which is _generic_ over the track type. By default, only HiGlass's builtin track types are recognized, so `hg.Viewconf(**data)` will throw an error when a configuration contains an unknown track.\n",
    "\n",
    "By supplying a our plugin track as a type parameter explicity, `hg.Viewconf[Union[PileupTrack, hg.Track]]`, we extend the model to recognize the `PileupTrack` in our config.\n",
    "\n",
    "This can seem a bit verbose, but supplying the type parameter explicitly is only necessary when deserializing an unknown config, e.g.\n",
    "\n",
    "```python\n",
    "hg.Viewconf.parse_file('./pileup-example.json') # error\n",
    "hg.Viewconf[PileupTrack].parse_file('./pileup-example.json') # works!\n",
    "```\n",
    "\n",
    "The `hg.track`, `hg.view`, and `hr.viewconf` utils _infer_ these types so you don't need to supply them!"
   ]
  },
  {
   "cell_type": "code",
   "execution_count": 5,
   "id": "5caf10c1",
   "metadata": {},
   "outputs": [],
   "source": [
    "from typing import ClassVar\n",
    "\n",
    "from typing_extensions import Literal\n",
    "\n",
    "import higlass as hg"
   ]
  },
  {
   "cell_type": "code",
   "execution_count": 6,
   "id": "f9d5f8c3",
   "metadata": {},
   "outputs": [],
   "source": [
    "class MultivecTrack(hg.PluginTrack):\n",
    "    type: Literal[\n",
    "        \"basic-multiple-line-chart\",\n",
    "        \"horizontal-stacked-bar\",\n",
    "        \"basic-multiple-bar-chart\",\n",
    "    ]\n",
    "    plugin_url: ClassVar[\n",
    "        str\n",
    "    ] = \"https://unpkg.com/higlass-multivec/dist/higlass-multivec.min.js\""
   ]
  },
  {
   "cell_type": "code",
   "execution_count": 8,
   "id": "d324eebf",
   "metadata": {},
   "outputs": [
    {
     "data": {
      "text/html": [
       "\n",
       "<!DOCTYPE html>\n",
       "<html>\n",
       "  <head>\n",
       "    <link rel=\"stylesheet\" href=\"https://esm.sh/higlass@1.11/dist/hglib.css\">\n",
       "    <script src=\"https://unpkg.com/requirejs-toggle\"></script>\n",
       "    \n",
       "    <script src=\"https://unpkg.com/higlass-multivec/dist/higlass-multivec.min.js\"></script>\n",
       "    \n",
       "    <script src=\"https://unpkg.com/higlass-pileup/dist/higlass-pileup.min.js\"></script>\n",
       "    \n",
       "    <script src=\"https://unpkg.com/requirejs-toggle\"></script>\n",
       "  </head>\n",
       "  <body>\n",
       "    <div id=\"jupyter-hg-c1ba60172fba45e9b49da4baeac04e56\"></div>\n",
       "  </body>\n",
       "  <script type=\"module\">\n",
       "    import hglib from \"https://esm.sh/higlass@1.11?deps=react@17,react-dom@17,pixi.js@6\";\n",
       "    hglib.viewer(\n",
       "      document.getElementById('jupyter-hg-c1ba60172fba45e9b49da4baeac04e56'),\n",
       "      JSON.parse(\"{\\\"editable\\\": true, \\\"viewEditable\\\": true, \\\"tracksEditable\\\": true, \\\"views\\\": [{\\\"layout\\\": {\\\"x\\\": 0, \\\"y\\\": 0, \\\"w\\\": 12, \\\"h\\\": 6}, \\\"tracks\\\": {\\\"top\\\": [{\\\"type\\\": \\\"horizontal-stacked-bar\\\", \\\"width\\\": 470, \\\"height\\\": 200, \\\"options\\\": {\\\"labelPosition\\\": \\\"topLeft\\\", \\\"labelColor\\\": \\\"black\\\", \\\"labelTextOpacity\\\": 0.4, \\\"valueScaling\\\": \\\"exponential\\\", \\\"trackBorderWidth\\\": 0, \\\"trackBorderColor\\\": \\\"black\\\", \\\"heatmapValueScaling\\\": \\\"log\\\", \\\"name\\\": \\\"all.KL.bed.multires.mv5\\\", \\\"scaledHeight\\\": true, \\\"backgroundColor\\\": \\\"white\\\", \\\"sortLargestOnTop\\\": true}, \\\"tilesetUid\\\": \\\"my-multivec-db\\\", \\\"server\\\": \\\"http://test1.resgen.io/api/v1\\\"}, {\\\"type\\\": \\\"pileup\\\", \\\"uid\\\": \\\"FylkvVBTSumoJ959HT4-5A\\\", \\\"width\\\": 470, \\\"height\\\": 180, \\\"options\\\": {\\\"axisPositionHorizontal\\\": \\\"right\\\", \\\"axisLabelFormatting\\\": \\\"normal\\\", \\\"showCoverage\\\": true, \\\"colorScale\\\": [\\\"#2c7bb6\\\", \\\"#92c5de\\\", \\\"#ffffbf\\\", \\\"#fdae61\\\", \\\"#808080\\\", \\\"#DCDCDC\\\"]}, \\\"data\\\": {\\\"type\\\": \\\"bam\\\", \\\"url\\\": \\\"https://pkerp.s3.amazonaws.com/public/bamfile_test/SRR1770413.sorted.bam\\\", \\\"chromSizesUrl\\\": \\\"https://pkerp.s3.amazonaws.com/public/bamfile_test/GCF_000005845.2_ASM584v2_genomic.chrom.sizes\\\", \\\"options\\\": {\\\"maxTileWidth\\\": 30000}}}]}, \\\"uid\\\": \\\"a087b764-5941-48f5-a2a0-956de1b03833\\\", \\\"zoomLimits\\\": [1, null]}]}\"),\n",
       "    );\n",
       "    </script>\n",
       "</html>"
      ],
      "text/plain": [
       "View(layout=Layout(x=0, y=0, w=12, h=6, moved=None, static=None), tracks=Tracks[TrackT](left=None, right=None, top=[MultivecTrack(type='horizontal-stacked-bar', uid=None, width=470, height=200, options={'labelPosition': 'topLeft', 'labelColor': 'black', 'labelTextOpacity': 0.4, 'valueScaling': 'exponential', 'trackBorderWidth': 0, 'trackBorderColor': 'black', 'heatmapValueScaling': 'log', 'name': 'all.KL.bed.multires.mv5', 'scaledHeight': True, 'backgroundColor': 'white', 'sortLargestOnTop': True}, tilesetUid='my-multivec-db', server='http://test1.resgen.io/api/v1'), PileupTrack(type='pileup', uid='FylkvVBTSumoJ959HT4-5A', width=470, height=180, options={'axisPositionHorizontal': 'right', 'axisLabelFormatting': 'normal', 'showCoverage': True, 'colorScale': ['#2c7bb6', '#92c5de', '#ffffbf', '#fdae61', '#808080', '#DCDCDC']}, data={'type': 'bam', 'url': 'https://pkerp.s3.amazonaws.com/public/bamfile_test/SRR1770413.sorted.bam', 'chromSizesUrl': 'https://pkerp.s3.amazonaws.com/public/bamfile_test/GCF_000005845.2_ASM584v2_genomic.chrom.sizes', 'options': {'maxTileWidth': 30000}})], bottom=None, center=None, whole=None, gallery=None), uid='a087b764-5941-48f5-a2a0-956de1b03833', autocompleteSource=None, chromInfoPath=None, genomePositionSearchBox=None, genomePositionSearchBoxVisible=None, initialXDomain=None, initialYDomain=None, overlays=None, selectionView=None, zoomFixed=None, zoomLimits=(1, None))"
      ]
     },
     "execution_count": 8,
     "metadata": {},
     "output_type": "execute_result"
    }
   ],
   "source": [
    "from typing import ClassVar\n",
    "\n",
    "from typing_extensions import Literal\n",
    "\n",
    "import higlass as hg\n",
    "\n",
    "\n",
    "class MultivecTrack(hg.PluginTrack):\n",
    "    type: Literal[\n",
    "        \"basic-multiple-line-chart\",\n",
    "        \"horizontal-stacked-bar\",\n",
    "        \"basic-multiple-bar-chart\",\n",
    "    ]\n",
    "    plugin_url: ClassVar[\n",
    "        str\n",
    "    ] = \"https://unpkg.com/higlass-multivec/dist/higlass-multivec.min.js\"\n",
    "\n",
    "\n",
    "track = MultivecTrack(\n",
    "    **{\n",
    "        \"type\": \"horizontal-stacked-bar\",\n",
    "        \"tilesetUid\": \"my-multivec-db\",\n",
    "        \"server\": \"http://test1.resgen.io/api/v1\",\n",
    "        \"height\": 200,\n",
    "        \"width\": 470,\n",
    "        \"options\": {\n",
    "            \"labelPosition\": \"topLeft\",\n",
    "            \"labelColor\": \"black\",\n",
    "            \"labelTextOpacity\": 0.4,\n",
    "            \"valueScaling\": \"exponential\",\n",
    "            \"trackBorderWidth\": 0,\n",
    "            \"trackBorderColor\": \"black\",\n",
    "            \"heatmapValueScaling\": \"log\",\n",
    "            \"name\": \"all.KL.bed.multires.mv5\",\n",
    "            \"scaledHeight\": True,\n",
    "            \"backgroundColor\": \"white\",\n",
    "            \"sortLargestOnTop\": True,\n",
    "        },\n",
    "    }\n",
    ")\n",
    "\n",
    "track2 = PileupTrack(**config[\"views\"][0][\"tracks\"][\"top\"][0])\n",
    "\n",
    "hg.view((track, \"top\"), (track2, \"top\"))  # types inferred!"
   ]
  },
  {
   "cell_type": "markdown",
   "id": "d61cdaa9",
   "metadata": {},
   "source": [
    "## Extending plugins with `pydantic`\n",
    "\n",
    "A `type` and `plugin_url` are minimally what is required to implement a plugin track, however, plugin may define additional fields using pydantic models, granting finer control over serde and validation.\n",
    "\n",
    "Below we define the `data` field on the `SequenceTrack` using a custom pydantic model."
   ]
  },
  {
   "cell_type": "code",
   "execution_count": 9,
   "id": "1b7f04e9",
   "metadata": {},
   "outputs": [
    {
     "data": {
      "text/plain": [
       "SeqeuenceTrackData(type='fasta', fastaUrl='https://aveit.s3.amazonaws.com/higlass/data/sequence/hg38.fa', faiUrl='https://aveit.s3.amazonaws.com/higlass/data/sequence/hg38.fa.fai', chromSizesUrl='https://aveit.s3.amazonaws.com/higlass/data/sequence/hg38.mod.chrom.sizes')"
      ]
     },
     "execution_count": 9,
     "metadata": {},
     "output_type": "execute_result"
    }
   ],
   "source": [
    "from typing import Optional\n",
    "\n",
    "from pydantic import BaseModel, Extra\n",
    "\n",
    "\n",
    "class SeqeuenceTrackData(BaseModel):\n",
    "    class Config:\n",
    "        extra = Extra.forbid\n",
    "\n",
    "    type: Literal[\"fasta\"]\n",
    "    fastaUrl: str\n",
    "    faiUrl: str\n",
    "    chromSizesUrl: str\n",
    "\n",
    "\n",
    "class SequenceTrack(hg.PluginTrack):\n",
    "    type: Literal[\"horizontal-sequence\"]\n",
    "    data: Optional[SeqeuenceTrackData] = None\n",
    "    plugin_url: ClassVar[\n",
    "        str\n",
    "    ] = \"https://unpkg.com/higlass-sequence/dist/higlass-sequence.js\"\n",
    "\n",
    "\n",
    "track = SequenceTrack(\n",
    "    **{\n",
    "        \"uid\": \"seq_fasta_example\",\n",
    "        \"type\": \"horizontal-sequence\",\n",
    "        \"data\": {\n",
    "            \"type\": \"fasta\",\n",
    "            \"fastaUrl\": \"https://aveit.s3.amazonaws.com/higlass/data/sequence/hg38.fa\",\n",
    "            \"faiUrl\": \"https://aveit.s3.amazonaws.com/higlass/data/sequence/hg38.fa.fai\",\n",
    "            \"chromSizesUrl\": \"https://aveit.s3.amazonaws.com/higlass/data/sequence/hg38.mod.chrom.sizes\",\n",
    "        },\n",
    "        \"width\": 568,\n",
    "        \"height\": 50,\n",
    "    }\n",
    ")\n",
    "\n",
    "track.data  # data is a pydantic model"
   ]
  },
  {
   "cell_type": "code",
   "execution_count": 10,
   "id": "54e672a6",
   "metadata": {},
   "outputs": [
    {
     "data": {
      "text/plain": [
       "'{\"type\": \"fasta\", \"fastaUrl\": \"https://aveit.s3.amazonaws.com/higlass/data/sequence/hg38.fa\", \"faiUrl\": \"https://aveit.s3.amazonaws.com/higlass/data/sequence/hg38.fa.fai\", \"chromSizesUrl\": \"https://aveit.s3.amazonaws.com/higlass/data/sequence/hg38.mod.chrom.sizes\"}'"
      ]
     },
     "execution_count": 10,
     "metadata": {},
     "output_type": "execute_result"
    }
   ],
   "source": [
    "track.data.json()"
   ]
  },
  {
   "cell_type": "code",
   "execution_count": 11,
   "id": "6b1150f8",
   "metadata": {},
   "outputs": [
    {
     "data": {
      "text/plain": [
       "{'type': 'fasta',\n",
       " 'fastaUrl': 'https://aveit.s3.amazonaws.com/higlass/data/sequence/hg38.fa',\n",
       " 'faiUrl': 'https://aveit.s3.amazonaws.com/higlass/data/sequence/hg38.fa.fai',\n",
       " 'chromSizesUrl': 'https://aveit.s3.amazonaws.com/higlass/data/sequence/hg38.mod.chrom.sizes'}"
      ]
     },
     "execution_count": 11,
     "metadata": {},
     "output_type": "execute_result"
    }
   ],
   "source": [
    "track.data.dict()"
   ]
  },
  {
   "cell_type": "markdown",
   "id": "9a0f7310",
   "metadata": {},
   "source": [
    "And the track is faithfully rendered by HiGlass"
   ]
  },
  {
   "cell_type": "code",
   "execution_count": 13,
   "id": "1bf4f80a",
   "metadata": {},
   "outputs": [
    {
     "data": {
      "text/html": [
       "\n",
       "<!DOCTYPE html>\n",
       "<html>\n",
       "  <head>\n",
       "    <link rel=\"stylesheet\" href=\"https://esm.sh/higlass@1.11/dist/hglib.css\">\n",
       "    <script src=\"https://unpkg.com/requirejs-toggle\"></script>\n",
       "    \n",
       "    <script src=\"https://unpkg.com/higlass-sequence/dist/higlass-sequence.js\"></script>\n",
       "    \n",
       "    <script src=\"https://unpkg.com/requirejs-toggle\"></script>\n",
       "  </head>\n",
       "  <body>\n",
       "    <div id=\"jupyter-hg-29ff9f1b5e624636ac6992b574aa1294\"></div>\n",
       "  </body>\n",
       "  <script type=\"module\">\n",
       "    import hglib from \"https://esm.sh/higlass@1.11?deps=react@17,react-dom@17,pixi.js@6\";\n",
       "    hglib.viewer(\n",
       "      document.getElementById('jupyter-hg-29ff9f1b5e624636ac6992b574aa1294'),\n",
       "      JSON.parse(\"{\\\"editable\\\": true, \\\"viewEditable\\\": true, \\\"tracksEditable\\\": true, \\\"views\\\": [{\\\"layout\\\": {\\\"x\\\": 0, \\\"y\\\": 0, \\\"w\\\": 12, \\\"h\\\": 6}, \\\"tracks\\\": {\\\"center\\\": [{\\\"type\\\": \\\"horizontal-sequence\\\", \\\"uid\\\": \\\"seq_fasta_example\\\", \\\"width\\\": 568, \\\"height\\\": 50, \\\"data\\\": {\\\"type\\\": \\\"fasta\\\", \\\"fastaUrl\\\": \\\"https://aveit.s3.amazonaws.com/higlass/data/sequence/hg38.fa\\\", \\\"faiUrl\\\": \\\"https://aveit.s3.amazonaws.com/higlass/data/sequence/hg38.fa.fai\\\", \\\"chromSizesUrl\\\": \\\"https://aveit.s3.amazonaws.com/higlass/data/sequence/hg38.mod.chrom.sizes\\\"}}]}, \\\"uid\\\": \\\"788dad1f-185c-4eb6-addd-976ef587b8bd\\\", \\\"zoomLimits\\\": [1, null]}]}\"),\n",
       "    );\n",
       "    </script>\n",
       "</html>"
      ],
      "text/plain": [
       "View(layout=Layout(x=0, y=0, w=12, h=6, moved=None, static=None), tracks=Tracks[TrackT](left=None, right=None, top=None, bottom=None, center=[SequenceTrack(type='horizontal-sequence', uid='seq_fasta_example', width=568, height=50, options=None, data=SeqeuenceTrackData(type='fasta', fastaUrl='https://aveit.s3.amazonaws.com/higlass/data/sequence/hg38.fa', faiUrl='https://aveit.s3.amazonaws.com/higlass/data/sequence/hg38.fa.fai', chromSizesUrl='https://aveit.s3.amazonaws.com/higlass/data/sequence/hg38.mod.chrom.sizes'))], whole=None, gallery=None), uid='788dad1f-185c-4eb6-addd-976ef587b8bd', autocompleteSource=None, chromInfoPath=None, genomePositionSearchBox=None, genomePositionSearchBoxVisible=None, initialXDomain=None, initialYDomain=None, overlays=None, selectionView=None, zoomFixed=None, zoomLimits=(1, None))"
      ]
     },
     "execution_count": 13,
     "metadata": {},
     "output_type": "execute_result"
    }
   ],
   "source": [
    "hg.view((track, \"center\"))"
   ]
  },
  {
   "cell_type": "code",
   "execution_count": null,
   "id": "b2f2c3f4",
   "metadata": {},
   "outputs": [],
   "source": []
  }
 ],
 "metadata": {
  "kernelspec": {
   "display_name": "Python 3 (ipykernel)",
   "language": "python",
   "name": "python3"
  },
  "language_info": {
   "codemirror_mode": {
    "name": "ipython",
    "version": 3
   },
   "file_extension": ".py",
   "mimetype": "text/x-python",
   "name": "python",
   "nbconvert_exporter": "python",
   "pygments_lexer": "ipython3",
   "version": "3.11.0"
  }
 },
 "nbformat": 4,
 "nbformat_minor": 5
}
